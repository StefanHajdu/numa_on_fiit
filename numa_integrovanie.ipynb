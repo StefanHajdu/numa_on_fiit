{
 "cells": [
  {
   "cell_type": "code",
   "execution_count": 1,
   "metadata": {},
   "outputs": [],
   "source": [
    "import numpy as np\n",
    "from numa import all_integrals\n",
    "import math"
   ]
  },
  {
   "cell_type": "code",
   "execution_count": 2,
   "metadata": {},
   "outputs": [
    {
     "name": "stdout",
     "output_type": "stream",
     "text": [
      "Exact value (by scipy): 1.3082107828255125\n",
      "\n",
      "               metoda              approx    |exact - approx|\n",
      "0        trapz_simple  0.8607939604744832  0.4474168223510293\n",
      "1      simpson_simple  1.3212758322698814  0.0130650494443689\n",
      "2  simpson_3_8_simple  1.3143968149336276  0.0061860321081151\n",
      "3        boole_simple  1.3085919215646966  0.0003811387391841\n",
      "4     trapz_composite  1.3043405935533610  0.0038701892721515\n",
      "5   simpson_composite  1.3082792889744461  0.0000685061489336\n"
     ]
    }
   ],
   "source": [
    "f = lambda x: 1+np.exp(-x)*np.sin(4*x)\n",
    "all_integrals(f, 0, 1, h=0.1)"
   ]
  },
  {
   "cell_type": "code",
   "execution_count": 3,
   "metadata": {},
   "outputs": [
    {
     "name": "stdout",
     "output_type": "stream",
     "text": [
      "Exact value (by scipy): -0.6365663484757806\n",
      "\n",
      "               metoda                  approx    |exact - approx|\n",
      "0        trapz_simple -6.1232339957367660e-17  0.6365663484757805\n",
      "1      simpson_simple -6.6666666666666663e-01  0.0301003181908860\n",
      "2  simpson_3_8_simple -6.4951905283832900e-01  0.0129527043625484\n",
      "3        boole_simple -6.3616482217710058e-01  0.0004015262986801\n",
      "4     trapz_composite -6.3137515146750389e-01  0.0051911970082767\n",
      "5   simpson_composite -6.3665463281165513e-01  0.0000882843358745\n"
     ]
    }
   ],
   "source": [
    "f = lambda x: np.sin(math.pi*x)\n",
    "all_integrals(f, 1, 2, h=0.1)"
   ]
  },
  {
   "cell_type": "code",
   "execution_count": 4,
   "metadata": {},
   "outputs": [
    {
     "name": "stdout",
     "output_type": "stream",
     "text": [
      "Exact value (by scipy): 2.0425629505772944\n",
      "\n",
      "               metoda              approx    |exact - approx|\n",
      "0        trapz_simple  1.8015509647673236  0.2410119858099709\n",
      "1      simpson_simple  1.9075952705405408  0.1349676800367536\n",
      "2  simpson_3_8_simple  2.0093304881357681  0.0332324624415263\n",
      "3        boole_simple  2.0672517724130910  0.0246888218357966\n",
      "4     trapz_composite  2.0415287409801808  0.0010342095971136\n",
      "5   simpson_composite  2.0426217319090476  0.0000587813317532\n"
     ]
    }
   ],
   "source": [
    "f = lambda x: 1 + np.exp(-x) * np.cos(4*x)\n",
    "all_integrals(f, 1, 3, h=0.1)"
   ]
  },
  {
   "cell_type": "code",
   "execution_count": 5,
   "metadata": {},
   "outputs": [
    {
     "name": "stdout",
     "output_type": "stream",
     "text": [
      "Exact value (by scipy): 0.9277933610035357\n",
      "\n",
      "               metoda              approx    |exact - approx|\n",
      "0        trapz_simple  0.9418333207157278  0.0140399597121921\n",
      "1      simpson_simple  0.9281355750611446  0.0003422140576089\n",
      "2  simpson_3_8_simple  0.9279394962192320  0.0001461352156963\n",
      "3        boole_simple  0.9277866633792916  0.0000066976242441\n",
      "4     trapz_composite  0.9279450482299382  0.0001516872264025\n",
      "5   simpson_composite  0.9277921917253167  0.0000011692782190\n"
     ]
    }
   ],
   "source": [
    "f = lambda x: 1 + np.exp(-x) * np.sin(2*x)\n",
    "all_integrals(f, 2, 3, h=0.1)"
   ]
  },
  {
   "cell_type": "code",
   "execution_count": 6,
   "metadata": {},
   "outputs": [
    {
     "name": "stdout",
     "output_type": "stream",
     "text": [
      "Exact value (by scipy): 3.7316336029822916\n",
      "\n",
      "               metoda              approx    |exact - approx|\n",
      "0        trapz_simple  3.2564402327102213  0.4751933702720703\n",
      "1      simpson_simple  3.7175511308776841  0.0140824721046076\n",
      "2  simpson_3_8_simple  3.7247964672640927  0.0068371357181989\n",
      "3        boole_simple  3.7310172659804173  0.0006163370018744\n",
      "4     trapz_composite  3.7313490425436577  0.0002845604386339\n",
      "5   simpson_composite  3.7316888900811929  0.0000552870989012\n"
     ]
    }
   ],
   "source": [
    "f = lambda x: np.sin(np.sqrt(x))\n",
    "all_integrals(f, 1, 5, h=0.1)"
   ]
  }
 ],
 "metadata": {
  "kernelspec": {
   "display_name": "Python 3",
   "language": "python",
   "name": "python3"
  },
  "language_info": {
   "codemirror_mode": {
    "name": "ipython",
    "version": 3
   },
   "file_extension": ".py",
   "mimetype": "text/x-python",
   "name": "python",
   "nbconvert_exporter": "python",
   "pygments_lexer": "ipython3",
   "version": "3.10.6"
  },
  "orig_nbformat": 4
 },
 "nbformat": 4,
 "nbformat_minor": 2
}
