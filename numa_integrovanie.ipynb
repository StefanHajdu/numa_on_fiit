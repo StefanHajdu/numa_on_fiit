{
 "cells": [
  {
   "cell_type": "code",
   "execution_count": 9,
   "metadata": {},
   "outputs": [],
   "source": [
    "import numpy as np\n",
    "from numa import all_integrals, all_integrals_approx_err\n",
    "import math\n",
    "import sympy as sp"
   ]
  },
  {
   "cell_type": "code",
   "execution_count": 2,
   "metadata": {},
   "outputs": [
    {
     "name": "stdout",
     "output_type": "stream",
     "text": [
      "Exact value (by scipy): 1.3082107828255125\n",
      "\n",
      "               metoda              approx    |exact - approx|  \\\n",
      "0        trapz_simple  0.8607939604744832  0.4474168223510293   \n",
      "1      simpson_simple  1.3212758322698814  0.0130650494443689   \n",
      "2  simpson_3_8_simple  1.3143968149336276  0.0061860321081151   \n",
      "3        boole_simple  1.3085919215646966  0.0003811387391841   \n",
      "4     trapz_composite  1.3043405935533610  0.0038701892721515   \n",
      "5   simpson_composite  1.3082792889744461  0.0000685061489336   \n",
      "\n",
      "           err_approx  \n",
      "0  1.1151950239689623  \n",
      "1  0.0892863240721830  \n",
      "2  0.1174567722513738  \n",
      "3  0.0025256283068783  \n",
      "4  0.0111519502396896  \n",
      "5  0.0001428581185155  \n"
     ]
    }
   ],
   "source": [
    "f = lambda x: 1+np.exp(-x)*np.sin(4*x)\n",
    "\n",
    "x = sp.Symbol('x')\n",
    "f_sp = 1+sp.exp(-x)*sp.sin(4*x)\n",
    "\n",
    "all_integrals(f, 0, 1, f_sp, x, h=0.1)"
   ]
  },
  {
   "cell_type": "code",
   "execution_count": 3,
   "metadata": {},
   "outputs": [
    {
     "name": "stdout",
     "output_type": "stream",
     "text": [
      "Exact value (by scipy): -0.6365663484757806\n",
      "\n",
      "               metoda                  approx    |exact - approx|  \\\n",
      "0        trapz_simple -6.1232339957367660e-17  0.6365663484757805   \n",
      "1      simpson_simple -6.6666666666666663e-01  0.0301003181908860   \n",
      "2  simpson_3_8_simple -6.4951905283832900e-01  0.0129527043625484   \n",
      "3        boole_simple -6.3616482217710058e-01  0.0004015262986801   \n",
      "4     trapz_composite -6.3137515146750389e-01  0.0051911970082767   \n",
      "5   simpson_composite -6.3665463281165513e-01  0.0000882843358745   \n",
      "\n",
      "           err_approx  \n",
      "0  0.8224670334241133  \n",
      "1  0.0338226010534731  \n",
      "2  0.0472252599977286  \n",
      "3  0.0004967495419846  \n",
      "4  0.0082246703342411  \n",
      "5  0.0000541161616856  \n"
     ]
    }
   ],
   "source": [
    "f = lambda x: np.sin(math.pi*x)\n",
    "\n",
    "x = sp.Symbol('x')\n",
    "f_sp = sp.sin(sp.pi*x)\n",
    "\n",
    "all_integrals(f, 1, 2, f_sp, x, h=0.1)"
   ]
  },
  {
   "cell_type": "code",
   "execution_count": 4,
   "metadata": {},
   "outputs": [
    {
     "name": "stdout",
     "output_type": "stream",
     "text": [
      "Exact value (by scipy): 2.0425629505772944\n",
      "\n",
      "               metoda              approx    |exact - approx|  \\\n",
      "0        trapz_simple  1.8015509647673236  0.2410119858099709   \n",
      "1      simpson_simple  1.9075952705405408  0.1349676800367536   \n",
      "2  simpson_3_8_simple  2.0093304881357681  0.0332324624415263   \n",
      "3        boole_simple  2.0672517724130910  0.0246888218357966   \n",
      "4     trapz_composite  2.0415287409801808  0.0010342095971136   \n",
      "5   simpson_composite  2.0426217319090476  0.0000587813317532   \n",
      "\n",
      "           err_approx  \n",
      "0  2.7466269510789232  \n",
      "1  0.8796173540539398  \n",
      "2  1.8865996935871594  \n",
      "3  0.1006073869791611  \n",
      "4  0.0068665673776973  \n",
      "5  0.0000879617354054  \n"
     ]
    }
   ],
   "source": [
    "f = lambda x: 1 + np.exp(-x) * np.cos(4*x)\n",
    "\n",
    "x = sp.Symbol('x')\n",
    "f_sp = 1 + sp.exp(-x) * sp.cos(4*x)\n",
    "\n",
    "all_integrals(f, 1, 3, f_sp, x, h=0.1)"
   ]
  },
  {
   "cell_type": "code",
   "execution_count": 5,
   "metadata": {},
   "outputs": [
    {
     "name": "stdout",
     "output_type": "stream",
     "text": [
      "Exact value (by scipy): 0.9277933610035357\n",
      "\n",
      "               metoda              approx    |exact - approx|  \\\n",
      "0        trapz_simple  0.9418333207157278  0.0140399597121921   \n",
      "1      simpson_simple  0.9281355750611446  0.0003422140576089   \n",
      "2  simpson_3_8_simple  0.9279394962192320  0.0001461352156963   \n",
      "3        boole_simple  0.9277866633792916  0.0000066976242441   \n",
      "4     trapz_composite  0.9279450482299382  0.0001516872264025   \n",
      "5   simpson_composite  0.9277921917253167  0.0000011692782190   \n",
      "\n",
      "           err_approx  \n",
      "0  0.0550925348692958  \n",
      "1  0.0004882328156849  \n",
      "2  0.0011667939777482  \n",
      "3  0.0000057674175796  \n",
      "4  0.0005509253486930  \n",
      "5  0.0000007811725051  \n"
     ]
    }
   ],
   "source": [
    "f = lambda x: 1 + np.exp(-x) * np.sin(2*x)\n",
    "\n",
    "x = sp.Symbol('x')\n",
    "f_sp = 1 + sp.exp(-x) * sp.sin(2*x)\n",
    "\n",
    "all_integrals(f, 2, 3, f_sp, x, h=0.1)"
   ]
  },
  {
   "cell_type": "code",
   "execution_count": 21,
   "metadata": {},
   "outputs": [
    {
     "name": "stdout",
     "output_type": "stream",
     "text": [
      "Exact value (by scipy): 4.636518601755196\n",
      "\n",
      "               metoda              approx    |exact - approx|\n",
      "0        trapz_simple  5.0000000000000000  0.3634813982448044\n",
      "1      simpson_simple  4.6480906366663861  0.0115720349111905\n",
      "2  simpson_3_8_simple  4.6420026264998402  0.0054840247446446\n",
      "3        boole_simple  4.6368641201590446  0.0003455184038490\n",
      "4     trapz_composite  4.6375172046931139  0.0009986029379183\n",
      "5   simpson_composite  4.6364782759804326  0.0000403257747630\n"
     ]
    }
   ],
   "source": [
    "f = lambda x: (x+3)/(np.sqrt(1+4*x-x**2))\n",
    "\n",
    "x = sp.Symbol('x')\n",
    "f_sp = sp.cos(4*x)**2/x\n",
    "\n",
    "all_integrals(f, 1, 3, h=0.1)"
   ]
  }
 ],
 "metadata": {
  "kernelspec": {
   "display_name": "Python 3",
   "language": "python",
   "name": "python3"
  },
  "language_info": {
   "codemirror_mode": {
    "name": "ipython",
    "version": 3
   },
   "file_extension": ".py",
   "mimetype": "text/x-python",
   "name": "python",
   "nbconvert_exporter": "python",
   "pygments_lexer": "ipython3",
   "version": "3.10.6"
  },
  "orig_nbformat": 4
 },
 "nbformat": 4,
 "nbformat_minor": 2
}
